{
 "cells": [
  {
   "cell_type": "code",
   "execution_count": null,
   "metadata": {},
   "outputs": [],
   "source": [
    "import pandas as pd\n",
    "from src.core import config, PACKAGE_ROOT\n",
    "from src.predict import make_prediction\n",
    "from src.pipeline import df_model "
   ]
  },
  {
   "cell_type": "code",
   "execution_count": 2,
   "metadata": {},
   "outputs": [
    {
     "data": {
      "text/plain": [
       "WindowsPath('C:/Users/Carolina/OneDrive/Github/mlops')"
      ]
     },
     "execution_count": 2,
     "metadata": {},
     "output_type": "execute_result"
    }
   ],
   "source": [
    "PACKAGE_ROOT"
   ]
  },
  {
   "cell_type": "code",
   "execution_count": 5,
   "metadata": {},
   "outputs": [],
   "source": [
    "data = pd.read_csv(f'{PACKAGE_ROOT}/{config.ml_config.predict_data_path}', index_col=0)"
   ]
  },
  {
   "cell_type": "code",
   "execution_count": 6,
   "metadata": {},
   "outputs": [
    {
     "data": {
      "text/html": [
       "<div>\n",
       "<style scoped>\n",
       "    .dataframe tbody tr th:only-of-type {\n",
       "        vertical-align: middle;\n",
       "    }\n",
       "\n",
       "    .dataframe tbody tr th {\n",
       "        vertical-align: top;\n",
       "    }\n",
       "\n",
       "    .dataframe thead th {\n",
       "        text-align: right;\n",
       "    }\n",
       "</style>\n",
       "<table border=\"1\" class=\"dataframe\">\n",
       "  <thead>\n",
       "    <tr style=\"text-align: right;\">\n",
       "      <th></th>\n",
       "      <th>id</th>\n",
       "      <th>date</th>\n",
       "      <th>bedrooms</th>\n",
       "      <th>bathrooms</th>\n",
       "      <th>floors</th>\n",
       "      <th>waterfront</th>\n",
       "      <th>view</th>\n",
       "      <th>condition</th>\n",
       "      <th>grade</th>\n",
       "      <th>yr_built</th>\n",
       "      <th>...</th>\n",
       "      <th>zipcode_encoded</th>\n",
       "      <th>view_encoded</th>\n",
       "      <th>condition_encoded</th>\n",
       "      <th>grade_encoded</th>\n",
       "      <th>sqft_living</th>\n",
       "      <th>sqft_lot</th>\n",
       "      <th>sqft_above</th>\n",
       "      <th>sqft_basement</th>\n",
       "      <th>sqft_living15</th>\n",
       "      <th>sqft_lot15</th>\n",
       "    </tr>\n",
       "  </thead>\n",
       "  <tbody>\n",
       "    <tr>\n",
       "      <th>17384</th>\n",
       "      <td>1453602313</td>\n",
       "      <td>20141029T000000</td>\n",
       "      <td>2</td>\n",
       "      <td>1</td>\n",
       "      <td>3</td>\n",
       "      <td>0</td>\n",
       "      <td>0</td>\n",
       "      <td>3</td>\n",
       "      <td>7</td>\n",
       "      <td>1999</td>\n",
       "      <td>...</td>\n",
       "      <td>0.0</td>\n",
       "      <td>0.0</td>\n",
       "      <td>0.0</td>\n",
       "      <td>0.0</td>\n",
       "      <td>0.120045</td>\n",
       "      <td>0.000832</td>\n",
       "      <td>0.141711</td>\n",
       "      <td>0.00</td>\n",
       "      <td>0.137184</td>\n",
       "      <td>0.002062</td>\n",
       "    </tr>\n",
       "    <tr>\n",
       "      <th>722</th>\n",
       "      <td>2225059214</td>\n",
       "      <td>20140808T000000</td>\n",
       "      <td>4</td>\n",
       "      <td>3</td>\n",
       "      <td>2</td>\n",
       "      <td>0</td>\n",
       "      <td>0</td>\n",
       "      <td>4</td>\n",
       "      <td>00000</td>\n",
       "      <td>1988</td>\n",
       "      <td>...</td>\n",
       "      <td>1.0</td>\n",
       "      <td>0.0</td>\n",
       "      <td>1.0</td>\n",
       "      <td>1.0</td>\n",
       "      <td>0.486976</td>\n",
       "      <td>0.043943</td>\n",
       "      <td>0.574866</td>\n",
       "      <td>0.00</td>\n",
       "      <td>0.642599</td>\n",
       "      <td>0.092183</td>\n",
       "    </tr>\n",
       "    <tr>\n",
       "      <th>2680</th>\n",
       "      <td>2768000270</td>\n",
       "      <td>20140625T000000</td>\n",
       "      <td>2</td>\n",
       "      <td>0</td>\n",
       "      <td>1</td>\n",
       "      <td>0</td>\n",
       "      <td>0</td>\n",
       "      <td>3</td>\n",
       "      <td>7</td>\n",
       "      <td>1914</td>\n",
       "      <td>...</td>\n",
       "      <td>1.0</td>\n",
       "      <td>0.0</td>\n",
       "      <td>0.0</td>\n",
       "      <td>0.0</td>\n",
       "      <td>0.121178</td>\n",
       "      <td>0.002593</td>\n",
       "      <td>0.110963</td>\n",
       "      <td>0.08</td>\n",
       "      <td>0.138989</td>\n",
       "      <td>0.008120</td>\n",
       "    </tr>\n",
       "    <tr>\n",
       "      <th>18754</th>\n",
       "      <td>6819100040</td>\n",
       "      <td>20140624T000000</td>\n",
       "      <td>2</td>\n",
       "      <td>1</td>\n",
       "      <td>1</td>\n",
       "      <td>0</td>\n",
       "      <td>0</td>\n",
       "      <td>4</td>\n",
       "      <td>8</td>\n",
       "      <td>1927</td>\n",
       "      <td>...</td>\n",
       "      <td>1.0</td>\n",
       "      <td>0.0</td>\n",
       "      <td>1.0</td>\n",
       "      <td>2.0</td>\n",
       "      <td>0.086070</td>\n",
       "      <td>0.001683</td>\n",
       "      <td>0.101604</td>\n",
       "      <td>0.00</td>\n",
       "      <td>0.182310</td>\n",
       "      <td>0.005605</td>\n",
       "    </tr>\n",
       "    <tr>\n",
       "      <th>14554</th>\n",
       "      <td>4027700666</td>\n",
       "      <td>20150426T000000</td>\n",
       "      <td>4</td>\n",
       "      <td>2</td>\n",
       "      <td>2</td>\n",
       "      <td>0</td>\n",
       "      <td>2</td>\n",
       "      <td>3</td>\n",
       "      <td>9</td>\n",
       "      <td>2002</td>\n",
       "      <td>...</td>\n",
       "      <td>2.0</td>\n",
       "      <td>1.0</td>\n",
       "      <td>0.0</td>\n",
       "      <td>3.0</td>\n",
       "      <td>0.318233</td>\n",
       "      <td>0.007664</td>\n",
       "      <td>0.375668</td>\n",
       "      <td>0.00</td>\n",
       "      <td>0.319495</td>\n",
       "      <td>0.033175</td>\n",
       "    </tr>\n",
       "  </tbody>\n",
       "</table>\n",
       "<p>5 rows × 26 columns</p>\n",
       "</div>"
      ],
      "text/plain": [
       "               id             date  bedrooms  bathrooms  floors waterfront  \\\n",
       "17384  1453602313  20141029T000000         2          1       3          0   \n",
       "722    2225059214  20140808T000000         4          3       2          0   \n",
       "2680   2768000270  20140625T000000         2          0       1          0   \n",
       "18754  6819100040  20140624T000000         2          1       1          0   \n",
       "14554  4027700666  20150426T000000         4          2       2          0   \n",
       "\n",
       "      view condition  grade  yr_built  ...  zipcode_encoded view_encoded  \\\n",
       "17384    0         3      7      1999  ...              0.0          0.0   \n",
       "722      0         4  00000      1988  ...              1.0          0.0   \n",
       "2680     0         3      7      1914  ...              1.0          0.0   \n",
       "18754    0         4      8      1927  ...              1.0          0.0   \n",
       "14554    2         3      9      2002  ...              2.0          1.0   \n",
       "\n",
       "       condition_encoded  grade_encoded  sqft_living  sqft_lot  sqft_above  \\\n",
       "17384                0.0            0.0     0.120045  0.000832    0.141711   \n",
       "722                  1.0            1.0     0.486976  0.043943    0.574866   \n",
       "2680                 0.0            0.0     0.121178  0.002593    0.110963   \n",
       "18754                1.0            2.0     0.086070  0.001683    0.101604   \n",
       "14554                0.0            3.0     0.318233  0.007664    0.375668   \n",
       "\n",
       "       sqft_basement  sqft_living15  sqft_lot15  \n",
       "17384           0.00       0.137184    0.002062  \n",
       "722             0.00       0.642599    0.092183  \n",
       "2680            0.08       0.138989    0.008120  \n",
       "18754           0.00       0.182310    0.005605  \n",
       "14554           0.00       0.319495    0.033175  \n",
       "\n",
       "[5 rows x 26 columns]"
      ]
     },
     "execution_count": 6,
     "metadata": {},
     "output_type": "execute_result"
    }
   ],
   "source": [
    "df = df_model(data)\n",
    "df.head()"
   ]
  },
  {
   "cell_type": "code",
   "execution_count": 7,
   "metadata": {},
   "outputs": [
    {
     "name": "stderr",
     "output_type": "stream",
     "text": [
      "INFO:root:Iniciado processo de aplicação do modelo\n",
      "INFO:root:modelo model\\house_price_regression_2024-11-09.pkl carregado\n",
      "INFO:root:Dados validados\n",
      "INFO:root:4323 predições realizadas\n",
      "INFO:root:Predições salvas\n"
     ]
    },
    {
     "data": {
      "text/plain": [
       "True"
      ]
     },
     "execution_count": 7,
     "metadata": {},
     "output_type": "execute_result"
    }
   ],
   "source": [
    "make_prediction()"
   ]
  }
 ],
 "metadata": {
  "kernelspec": {
   "display_name": "base",
   "language": "python",
   "name": "python3"
  },
  "language_info": {
   "codemirror_mode": {
    "name": "ipython",
    "version": 3
   },
   "file_extension": ".py",
   "mimetype": "text/x-python",
   "name": "python",
   "nbconvert_exporter": "python",
   "pygments_lexer": "ipython3",
   "version": "3.12.4"
  }
 },
 "nbformat": 4,
 "nbformat_minor": 2
}
